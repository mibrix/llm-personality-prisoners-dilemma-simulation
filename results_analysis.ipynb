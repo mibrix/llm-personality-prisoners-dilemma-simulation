{
 "cells": [
  {
   "cell_type": "code",
   "execution_count": null,
   "id": "60b1494a",
   "metadata": {},
   "outputs": [],
   "source": [
    "import pandas as pd\n",
    "import ast"
   ]
  },
  {
   "cell_type": "code",
   "execution_count": 24,
   "id": "8ebf7fb0",
   "metadata": {},
   "outputs": [],
   "source": [
    "df = pd.read_csv('PD_experiments_results.csv')"
   ]
  },
  {
   "cell_type": "code",
   "execution_count": 4,
   "id": "4fbfe859",
   "metadata": {},
   "outputs": [],
   "source": [
    "number_of_games = {(0.5, 32) : [69, 71, 59], (0.5, 40) : [72, 71, 72], (0.5, 48) : [72, 68, 77],\n",
    "                   (0.75, 32) : [29, 33, 27], (0.75, 40) : [34, 47, 23], (0.75, 48) : [35, 29, 32]}"
   ]
  },
  {
   "cell_type": "code",
   "execution_count": null,
   "id": "a14746a7",
   "metadata": {},
   "outputs": [],
   "source": [
    "subjects = {(0.5, 32) : [16, 12, 16], (0.5, 40) : [14, 16, 20], (0.5, 48) : [14, 14, 18],\n",
    "            (0.75, 32) : [14, 16, 14], (0.75, 40) : [12, 14, 12], (0.75, 48) : [16, 12, 16]}"
   ]
  },
  {
   "cell_type": "code",
   "execution_count": 5,
   "id": "673c94ab",
   "metadata": {},
   "outputs": [],
   "source": [
    "# Function to get reward based on experiment and supergame\n",
    "def get_reward(experiment):\n",
    "    if experiment <= 5:\n",
    "        return 32\n",
    "    elif experiment >= 6 and experiment <= 11:\n",
    "        return 40\n",
    "    elif experiment >= 12 and experiment <= 17:\n",
    "        return 48\n",
    "    return None  # If no match found, return None"
   ]
  },
  {
   "cell_type": "code",
   "execution_count": 26,
   "id": "8eef8bc9",
   "metadata": {},
   "outputs": [],
   "source": [
    "df['Reward'] = df.apply(lambda row: get_reward(row['Experiment']), axis=1)"
   ]
  },
  {
   "cell_type": "code",
   "execution_count": 27,
   "id": "0379146a",
   "metadata": {},
   "outputs": [],
   "source": [
    "# Convert the 'Data' column from string to dictionary using ast.literal_eval\n",
    "df['Data'] = df['Data'].apply(ast.literal_eval)\n",
    "\n",
    "# Extract the relevant columns (decisions, scores, etc.) into separate columns\n",
    "df['Round'] = df['Data'].apply(lambda x: x['Round'])\n",
    "df['Prisoner 1 Decision'] = df['Data'].apply(lambda x: x['Prisoner 1 LLM Response'])\n",
    "df['Prisoner 2 Decision'] = df['Data'].apply(lambda x: x['Prisoner 2 LLM Response'])\n",
    "df['Prisoner 1 Score'] = df['Data'].apply(lambda x: x['Prisoner 1 Score'])\n",
    "df['Prisoner 2 Score'] = df['Data'].apply(lambda x: x['Prisoner 2 Score'])\n",
    "df['Probability of Game Continuing'] = df['Data'].apply(lambda x: x['Probability of Game Continuing'])"
   ]
  },
  {
   "cell_type": "code",
   "execution_count": 35,
   "id": "8425fb05",
   "metadata": {},
   "outputs": [
    {
     "data": {
      "text/html": [
       "<div>\n",
       "<style scoped>\n",
       "    .dataframe tbody tr th:only-of-type {\n",
       "        vertical-align: middle;\n",
       "    }\n",
       "\n",
       "    .dataframe tbody tr th {\n",
       "        vertical-align: top;\n",
       "    }\n",
       "\n",
       "    .dataframe thead th {\n",
       "        text-align: right;\n",
       "    }\n",
       "</style>\n",
       "<table border=\"1\" class=\"dataframe\">\n",
       "  <thead>\n",
       "    <tr style=\"text-align: right;\">\n",
       "      <th></th>\n",
       "      <th>Data</th>\n",
       "      <th>Experiment</th>\n",
       "      <th>Supergame</th>\n",
       "      <th>Subject Pair</th>\n",
       "      <th>Reward</th>\n",
       "      <th>Round</th>\n",
       "      <th>Prisoner 1 Decision</th>\n",
       "      <th>Prisoner 2 Decision</th>\n",
       "      <th>Prisoner 1 Score</th>\n",
       "      <th>Prisoner 2 Score</th>\n",
       "      <th>Probability of Game Continuing</th>\n",
       "      <th>Player 1 Cooperates</th>\n",
       "      <th>Player 2 Cooperates</th>\n",
       "    </tr>\n",
       "  </thead>\n",
       "  <tbody>\n",
       "    <tr>\n",
       "      <th>0</th>\n",
       "      <td>{'Round': 1, 'Prisoner 1 ID': 11, 'Prisoner 2 ...</td>\n",
       "      <td>0</td>\n",
       "      <td>1</td>\n",
       "      <td>1</td>\n",
       "      <td>32</td>\n",
       "      <td>1</td>\n",
       "      <td>Betray</td>\n",
       "      <td>Cooperate</td>\n",
       "      <td>50.0</td>\n",
       "      <td>12.0</td>\n",
       "      <td>0.5</td>\n",
       "      <td>0</td>\n",
       "      <td>1.0</td>\n",
       "    </tr>\n",
       "    <tr>\n",
       "      <th>1</th>\n",
       "      <td>{'Round': 2, 'Prisoner 1 ID': 11, 'Prisoner 2 ...</td>\n",
       "      <td>0</td>\n",
       "      <td>1</td>\n",
       "      <td>1</td>\n",
       "      <td>32</td>\n",
       "      <td>2</td>\n",
       "      <td>Betray</td>\n",
       "      <td>Cooperate</td>\n",
       "      <td>100.0</td>\n",
       "      <td>24.0</td>\n",
       "      <td>0.5</td>\n",
       "      <td>0</td>\n",
       "      <td>1.0</td>\n",
       "    </tr>\n",
       "    <tr>\n",
       "      <th>2</th>\n",
       "      <td>{'Round': 3, 'Prisoner 1 ID': 11, 'Prisoner 2 ...</td>\n",
       "      <td>0</td>\n",
       "      <td>1</td>\n",
       "      <td>1</td>\n",
       "      <td>32</td>\n",
       "      <td>3</td>\n",
       "      <td>Cooperate</td>\n",
       "      <td>Cooperate</td>\n",
       "      <td>132.0</td>\n",
       "      <td>56.0</td>\n",
       "      <td>0.5</td>\n",
       "      <td>1</td>\n",
       "      <td>1.0</td>\n",
       "    </tr>\n",
       "    <tr>\n",
       "      <th>3</th>\n",
       "      <td>{'Round': 1, 'Prisoner 1 ID': 0, 'Prisoner 2 I...</td>\n",
       "      <td>0</td>\n",
       "      <td>1</td>\n",
       "      <td>2</td>\n",
       "      <td>32</td>\n",
       "      <td>1</td>\n",
       "      <td>Betray</td>\n",
       "      <td>Betray</td>\n",
       "      <td>25.0</td>\n",
       "      <td>25.0</td>\n",
       "      <td>0.5</td>\n",
       "      <td>0</td>\n",
       "      <td>0.0</td>\n",
       "    </tr>\n",
       "    <tr>\n",
       "      <th>4</th>\n",
       "      <td>{'Round': 2, 'Prisoner 1 ID': 0, 'Prisoner 2 I...</td>\n",
       "      <td>0</td>\n",
       "      <td>1</td>\n",
       "      <td>2</td>\n",
       "      <td>32</td>\n",
       "      <td>2</td>\n",
       "      <td>Betray</td>\n",
       "      <td>Betray</td>\n",
       "      <td>50.0</td>\n",
       "      <td>50.0</td>\n",
       "      <td>0.5</td>\n",
       "      <td>0</td>\n",
       "      <td>0.0</td>\n",
       "    </tr>\n",
       "  </tbody>\n",
       "</table>\n",
       "</div>"
      ],
      "text/plain": [
       "                                                Data  Experiment  Supergame  \\\n",
       "0  {'Round': 1, 'Prisoner 1 ID': 11, 'Prisoner 2 ...           0          1   \n",
       "1  {'Round': 2, 'Prisoner 1 ID': 11, 'Prisoner 2 ...           0          1   \n",
       "2  {'Round': 3, 'Prisoner 1 ID': 11, 'Prisoner 2 ...           0          1   \n",
       "3  {'Round': 1, 'Prisoner 1 ID': 0, 'Prisoner 2 I...           0          1   \n",
       "4  {'Round': 2, 'Prisoner 1 ID': 0, 'Prisoner 2 I...           0          1   \n",
       "\n",
       "   Subject Pair  Reward  Round Prisoner 1 Decision Prisoner 2 Decision  \\\n",
       "0             1      32      1              Betray           Cooperate   \n",
       "1             1      32      2              Betray           Cooperate   \n",
       "2             1      32      3           Cooperate           Cooperate   \n",
       "3             2      32      1              Betray              Betray   \n",
       "4             2      32      2              Betray              Betray   \n",
       "\n",
       "   Prisoner 1 Score  Prisoner 2 Score  Probability of Game Continuing  \\\n",
       "0              50.0              12.0                             0.5   \n",
       "1             100.0              24.0                             0.5   \n",
       "2             132.0              56.0                             0.5   \n",
       "3              25.0              25.0                             0.5   \n",
       "4              50.0              50.0                             0.5   \n",
       "\n",
       "   Player 1 Cooperates  Player 2 Cooperates  \n",
       "0                    0                  1.0  \n",
       "1                    0                  1.0  \n",
       "2                    1                  1.0  \n",
       "3                    0                  0.0  \n",
       "4                    0                  0.0  "
      ]
     },
     "execution_count": 35,
     "metadata": {},
     "output_type": "execute_result"
    }
   ],
   "source": [
    "df.head()"
   ]
  },
  {
   "cell_type": "code",
   "execution_count": 33,
   "id": "53d72cd4",
   "metadata": {},
   "outputs": [
    {
     "data": {
      "text/plain": [
       "(2517, 13)"
      ]
     },
     "execution_count": 33,
     "metadata": {},
     "output_type": "execute_result"
    }
   ],
   "source": [
    "df.shape"
   ]
  },
  {
   "cell_type": "code",
   "execution_count": 28,
   "id": "e8bfa732",
   "metadata": {},
   "outputs": [],
   "source": [
    "# Now let's define a function to classify decisions: 1 for Cooperation, 0 for Defection\n",
    "def classify_decision(decision):\n",
    "    if decision == 'Cooperate':\n",
    "        return 1\n",
    "    elif decision == 'Betray':\n",
    "        return 0\n",
    "    else:\n",
    "        return None  # Handle other decision values if needed\n",
    "\n",
    "# Apply the classification to the 'Prisoner 1 Decision' and 'Prisoner 2 Decision'\n",
    "df['Player 1 Cooperates'] = df['Prisoner 1 Decision'].apply(classify_decision)\n",
    "df['Player 2 Cooperates'] = df['Prisoner 2 Decision'].apply(classify_decision)\n",
    "\n",
    "# Calculate cooperation rates per round\n",
    "cooperation_rate_per_round = df.groupby('Round')[['Player 1 Cooperates', 'Player 2 Cooperates']].mean()\n"
   ]
  },
  {
   "cell_type": "code",
   "execution_count": null,
   "id": "e037d34d",
   "metadata": {},
   "outputs": [],
   "source": [
    "# Define function to compute cooperation rate\n",
    "def cooperation_rate(group):\n",
    "    return group[['Player 1 Cooperates', 'Player 2 Cooperates']].mean().mean()\n",
    "\n",
    "# Group by Reward and Probability of Game Continuing and compute average cooperation rate\n",
    "cooperation_rate_by_reward_and_probability = df.groupby(['Reward', 'Probability of Game Continuing']).apply(cooperation_rate).reset_index(name='Cooperation Rate')"
   ]
  },
  {
   "cell_type": "code",
   "execution_count": 30,
   "id": "b8667d3b",
   "metadata": {},
   "outputs": [
    {
     "data": {
      "text/plain": [
       "Probability of Game Continuing\n",
       "0.50    0.603750\n",
       "0.75    0.570826\n",
       "Name: Cooperation Rate, dtype: float64"
      ]
     },
     "execution_count": 30,
     "metadata": {},
     "output_type": "execute_result"
    }
   ],
   "source": [
    "cooperation_rate_by_reward_and_probability.groupby(['Probability of Game Continuing'])['Cooperation Rate'].mean()"
   ]
  }
 ],
 "metadata": {
  "kernelspec": {
   "display_name": "Python 3",
   "language": "python",
   "name": "python3"
  },
  "language_info": {
   "codemirror_mode": {
    "name": "ipython",
    "version": 3
   },
   "file_extension": ".py",
   "mimetype": "text/x-python",
   "name": "python",
   "nbconvert_exporter": "python",
   "pygments_lexer": "ipython3",
   "version": "3.12.3"
  }
 },
 "nbformat": 4,
 "nbformat_minor": 5
}
